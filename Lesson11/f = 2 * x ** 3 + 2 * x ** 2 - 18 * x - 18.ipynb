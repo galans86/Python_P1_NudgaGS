{
 "cells":[
  {
   "cell_type":"code",
   "source":[
    "x = Symbol('x')\n",
    "f = 2 * x ** 3 + 2 * x ** 2 - 18 * x - 18\n",
    "a = plot(f, (x,-10,10)) #график функции"
   ],
   "execution_count":81,
   "outputs":[
    {
     "data":{
      "image\/png":"[encoded data removed]"
     },
     "metadata":{
      "image\/png":{
       
      }
     },
     "output_type":"display_data"
    }
   ],
   "metadata":{
    "datalore":{
     "node_id":"3JuBzoyiYhkpGTWlXlBGXh",
     "type":"CODE",
     "hide_input_from_viewers":true,
     "hide_output_from_viewers":true
    }
   }
  },
  {
   "cell_type":"code",
   "source":[
    "solveset(f,x) #нули функции"
   ],
   "execution_count":82,
   "outputs":[
    {
     "data":{
      "text\/latex":[
       "$\\displaystyle \\left\\{-3, -1, 3\\right\\}$"
      ]
     },
     "metadata":{
      
     },
     "output_type":"display_data"
    }
   ],
   "metadata":{
    "datalore":{
     "node_id":"wo9wPWheIM2jF9Dqyh0DoV",
     "type":"CODE",
     "hide_input_from_viewers":true,
     "hide_output_from_viewers":true
    }
   }
  },
  {
   "cell_type":"code",
   "source":[
    "b = [-oo,oo]\n",
    "b[1:1] = solve(diff(f,x)) #первая производная\n",
    "print('Интервалы: ',b)"
   ],
   "execution_count":83,
   "outputs":[
    {
     "name":"stdout",
     "text":[
      "Интервалы:  [-oo, -1\/3 + 2*sqrt(7)\/3, -2*sqrt(7)\/3 - 1\/3, oo]\n"
     ],
     "output_type":"stream"
    }
   ],
   "metadata":{
    "datalore":{
     "node_id":"xNBiMjIZnLYf7qiP3CbKrl",
     "type":"CODE",
     "hide_input_from_viewers":true,
     "hide_output_from_viewers":true
    }
   }
  },
  {
   "cell_type":"code",
   "source":[
    "c=[]\n",
    "d=[]\n",
    "\n",
    "for i in range(1,len(b)):\n",
    "    boo = is_increasing(f,Interval.open(b[i-1],b[i]))\n",
    "    if boo:\n",
    "        c.append(f'{b[i-1]}, {b[i]}')\n",
    "    else:\n",
    "        d.append(f'{b[i-1]}, {b[i]}')\n",
    "\n",
    "print(f'Возрастает в диапазоне {c}')\n",
    "print(f'Убывает в диапазоне {d}')"
   ],
   "execution_count":84,
   "outputs":[
    {
     "name":"stdout",
     "text":[
      "Возрастает в диапазоне ['-1\/3 + 2*sqrt(7)\/3, -2*sqrt(7)\/3 - 1\/3']\n",
      "Убывает в диапазоне ['-oo, -1\/3 + 2*sqrt(7)\/3', '-2*sqrt(7)\/3 - 1\/3, oo']\n"
     ],
     "output_type":"stream"
    }
   ],
   "metadata":{
    "datalore":{
     "node_id":"DMfvHxtSA8h4CTkpsYYS1O",
     "type":"CODE",
     "hide_input_from_viewers":true,
     "hide_output_from_viewers":true
    }
   }
  },
  {
   "cell_type":"code",
   "source":[
    "e = solve(diff(f,x)) #экстремумы функции\n",
    "\n",
    "for i in e:\n",
    "    g = f.subs(x,i)\n",
    "    if g < 0:    #min\n",
    "        print(f'Минимум функции x:{i} y:{g}')\n",
    "    elif g > 0:\n",
    "        print(f'Максимум функции x:{i} y:{g}')"
   ],
   "execution_count":85,
   "outputs":[
    {
     "name":"stdout",
     "text":[
      "Минимум функции x:-1\/3 + 2*sqrt(7)\/3 y:-12*sqrt(7) - 12 + 2*(-1\/3 + 2*sqrt(7)\/3)**2 + 2*(-1\/3 + 2*sqrt(7)\/3)**3\n",
      "Максимум функции x:-2*sqrt(7)\/3 - 1\/3 y:2*(-2*sqrt(7)\/3 - 1\/3)**3 - 12 + 2*(-2*sqrt(7)\/3 - 1\/3)**2 + 12*sqrt(7)\n"
     ],
     "output_type":"stream"
    }
   ],
   "metadata":{
    "datalore":{
     "node_id":"m934lYSDcWyAe59zYTfVcg",
     "type":"CODE",
     "hide_input_from_viewers":true,
     "hide_output_from_viewers":true
    }
   }
  },
  {
   "cell_type":"code",
   "source":[
    "m = [-oo,oo]\n",
    "m[1:1] = solve(f,x) #корни\n",
    "h=[]\n",
    "l=[]\n",
    "\n",
    "for i in range(1,len(m)):\n",
    "    boo = is_increasing(f,Interval.open(m[i-1],m[i]))\n",
    "    if boo:\n",
    "        h.append(f'{m[i-1]}, {m[i]}')\n",
    "    else:\n",
    "        l.append(f'{m[i-1]}, {m[i]}')\n",
    "print('f > 0:', *h, sep = '\\n')      #Знакопостоянство функции\n",
    "print('f < 0:', *l, sep = '\\n')"
   ],
   "execution_count":86,
   "outputs":[
    {
     "name":"stdout",
     "text":[
      "f > 0:\n",
      "-oo, -3\n",
      "3, oo\n",
      "f < 0:\n",
      "-3, -1\n",
      "-1, 3\n"
     ],
     "output_type":"stream"
    }
   ],
   "metadata":{
    "datalore":{
     "node_id":"IPMrGkktPCCcvVjXrSHEkQ",
     "type":"CODE",
     "hide_input_from_viewers":true,
     "hide_output_from_viewers":true
    }
   }
  },
  {
   "cell_type":"code",
   "source":[
    
   ],
   "execution_count":null,
   "outputs":[
    
   ],
   "metadata":{
    "datalore":{
     "node_id":"qt4hmWDzdoeTSSu62gv9bq",
     "type":"CODE",
     "hide_input_from_viewers":true,
     "hide_output_from_viewers":true
    }
   }
  }
 ],
 "metadata":{
  "kernelspec":{
   "display_name":"Python",
   "language":"python",
   "name":"python"
  },
  "datalore":{
   "version":1,
   "computation_mode":"JUPYTER",
   "package_manager":"pip",
   "base_environment":"default",
   "packages":[
    
   ]
  }
 },
 "nbformat":4,
 "nbformat_minor":4
}